{
 "cells": [
  {
   "cell_type": "markdown",
   "metadata": {},
   "source": [
    "# Connect to the database"
   ]
  },
  {
   "cell_type": "code",
   "execution_count": 22,
   "metadata": {},
   "outputs": [],
   "source": [
    "import sqlite3\n",
    "\n",
    "conn = sqlite3.connect('../ConversationHistoryRecords.db')\n",
    "cursor = conn.cursor()\n",
    "\n",
    "\n"
   ]
  },
  {
   "cell_type": "markdown",
   "metadata": {},
   "source": [
    "# Check all the tables"
   ]
  },
  {
   "cell_type": "code",
   "execution_count": 23,
   "metadata": {},
   "outputs": [
    {
     "name": "stdout",
     "output_type": "stream",
     "text": [
      "Tables in ConversationHistoryRecords:\n",
      "interactions\n",
      "consumerParticipants\n",
      "messageScores\n",
      "transfers\n",
      "agentParticipants\n",
      "messageStatuses\n",
      "Recordsinfo\n",
      "messageRecords\n",
      "campaign\n"
     ]
    }
   ],
   "source": [
    "\n",
    "cursor.execute(\"SELECT name FROM sqlite_master WHERE type='table';\")\n",
    "tables = cursor.fetchall()\n",
    "\n",
    "print(\"Tables in ConversationHistoryRecords:\")\n",
    "for table in tables:\n",
    "    print(table[0])\n",
    "\n"
   ]
  },
  {
   "cell_type": "markdown",
   "metadata": {},
   "source": [
    "# Check all the schemas \n",
    "You can also type `.schema <table name>` in sqlite terminal"
   ]
  },
  {
   "cell_type": "code",
   "execution_count": 28,
   "metadata": {},
   "outputs": [
    {
     "name": "stdout",
     "output_type": "stream",
     "text": [
      "Schema for agentParticipants:\n",
      "(0, 'agentFullName', 'String', 0, None, 0)\n",
      "(1, 'agentNickname', 'String', 0, None, 0)\n",
      "(2, 'agentLoginName', 'String', 0, None, 0)\n",
      "(3, 'agentDeleted', 'Boolean', 0, None, 0)\n",
      "(4, 'agentld', 'String', 0, None, 0)\n",
      "(5, 'agentPid', 'String', 0, None, 0)\n",
      "(6, 'userType', 'String', 0, None, 0)\n",
      "(7, 'userTypeName', 'String', 0, None, 0)\n",
      "(8, 'role', 'String', 0, None, 0)\n",
      "(9, 'agentGroupName', 'String', 0, None, 0)\n",
      "(10, 'agentGroupld', 'Long', 0, None, 0)\n",
      "(11, 'time', 'String', 0, None, 0)\n",
      "(12, 'permission', 'String', 0, None, 0)\n",
      "(13, 'dialogid', 'String', 0, None, 0)\n"
     ]
    }
   ],
   "source": [
    "table_name = 'agentParticipants'\n",
    "cursor.execute(\"PRAGMA table_info({})\".format(table_name))\n",
    "schema = cursor.fetchall()\n",
    "print(\"Schema for {}:\".format(table_name))\n",
    "for column in schema:\n",
    "    print(column)\n",
    "\n",
    "\n"
   ]
  },
  {
   "cell_type": "markdown",
   "metadata": {},
   "source": [
    "# Check top 5 data of specific column"
   ]
  },
  {
   "cell_type": "code",
   "execution_count": 32,
   "metadata": {},
   "outputs": [
    {
     "data": {
      "text/plain": [
       "[('#Person2#: where would you like to be located? ',),\n",
       " (\"#Person2#: well, she's alright, but not really my cup of tea. What about the blond with the red dress? \",),\n",
       " ('#Person2#: uh... Yes. Turn right, then take the second turning on your left. ',),\n",
       " ('#Person2#: okay, here I go! ',),\n",
       " (\"#Person2#: not really. When I was little, we didn't really listen to music at all.\",)]"
      ]
     },
     "execution_count": 32,
     "metadata": {},
     "output_type": "execute_result"
    }
   ],
   "source": [
    "cursor.execute('SELECT text FROM messageRecords ORDER BY text DESC LIMIT 5')\n",
    "cursor.fetchall()"
   ]
  }
 ],
 "metadata": {
  "kernelspec": {
   "display_name": "domino",
   "language": "python",
   "name": "python3"
  },
  "language_info": {
   "codemirror_mode": {
    "name": "ipython",
    "version": 3
   },
   "file_extension": ".py",
   "mimetype": "text/x-python",
   "name": "python",
   "nbconvert_exporter": "python",
   "pygments_lexer": "ipython3",
   "version": "3.10.14"
  }
 },
 "nbformat": 4,
 "nbformat_minor": 2
}
